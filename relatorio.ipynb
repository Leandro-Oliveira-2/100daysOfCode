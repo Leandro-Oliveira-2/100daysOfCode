{
  "cells": [
    {
      "cell_type": "markdown",
      "metadata": {
        "id": "QYQxLmmxPoZo"
      },
      "source": [
        "# Análise de Dados - UFPB\n",
        "\n",
        "**Professor** : Marcus Carvalho\n",
        "\n",
        "Aluno: [Insira seu nome]\n",
        "\n",
        "## Laboratório: Manipulação de Dados\n",
        "\n",
        "Nesta atividade prática, você deve usar a biblioteca Pandas de Python para exercitar a manipulação dados.\n",
        "O dataset usado como exemplo será de notas de alunos em algumas turmas ofertadas para o curso de Sistemas de Informação da UFPB.\n",
        "A tabela tem duas colunas: `disciplina` e `nota`. Cada linha representa a nota final de um aluno que cursou a disciplina em uma turma.\n",
        "Por exemplo, se a disciplina \"SISTEMAS DISTRIBUIDOS\" teve 30 alunos, existirão 30 linhas com o par `<SISTEMAS DISTRIBUIDOS, nota_do_aluno>`, sendo uma para cada aluno.\n",
        "\n",
        "Carregue e manipule os dados para responder as questões. Tente usar apenas código para responder as questões nos blocos de código."
      ]
    },
    {
      "cell_type": "markdown",
      "metadata": {
        "id": "naocWeT-PoZq"
      },
      "source": [
        "### Carregamento dos dados\n",
        "\n",
        "Para iniciar, importe as bibliotecas necessárias e carregue o arquivo `dados/exemplo_notas_si.csv` usando o Pandas e imprima o DataFrame para entender o formato dos dados."
      ]
    },
    {
      "cell_type": "code",
      "execution_count": 125,
      "metadata": {
        "colab": {
          "base_uri": "https://localhost:8080/",
          "height": 206
        },
        "id": "UYSttcMvPoZq",
        "outputId": "4d4310cd-b0ee-4f1b-e52a-d653771a43b6"
      },
      "outputs": [
        {
          "output_type": "execute_result",
          "data": {
            "text/plain": [
              "        disciplina  nota\n",
              "0  ADMINISTRAÇÃO I   7.7\n",
              "1  ADMINISTRAÇÃO I   7.0\n",
              "2  ADMINISTRAÇÃO I   5.5\n",
              "3  ADMINISTRAÇÃO I   2.6\n",
              "4  ADMINISTRAÇÃO I   5.1"
            ],
            "text/html": [
              "\n",
              "  <div id=\"df-62cdb81e-7d4a-4405-9673-74bc4041d82f\" class=\"colab-df-container\">\n",
              "    <div>\n",
              "<style scoped>\n",
              "    .dataframe tbody tr th:only-of-type {\n",
              "        vertical-align: middle;\n",
              "    }\n",
              "\n",
              "    .dataframe tbody tr th {\n",
              "        vertical-align: top;\n",
              "    }\n",
              "\n",
              "    .dataframe thead th {\n",
              "        text-align: right;\n",
              "    }\n",
              "</style>\n",
              "<table border=\"1\" class=\"dataframe\">\n",
              "  <thead>\n",
              "    <tr style=\"text-align: right;\">\n",
              "      <th></th>\n",
              "      <th>disciplina</th>\n",
              "      <th>nota</th>\n",
              "    </tr>\n",
              "  </thead>\n",
              "  <tbody>\n",
              "    <tr>\n",
              "      <th>0</th>\n",
              "      <td>ADMINISTRAÇÃO I</td>\n",
              "      <td>7.7</td>\n",
              "    </tr>\n",
              "    <tr>\n",
              "      <th>1</th>\n",
              "      <td>ADMINISTRAÇÃO I</td>\n",
              "      <td>7.0</td>\n",
              "    </tr>\n",
              "    <tr>\n",
              "      <th>2</th>\n",
              "      <td>ADMINISTRAÇÃO I</td>\n",
              "      <td>5.5</td>\n",
              "    </tr>\n",
              "    <tr>\n",
              "      <th>3</th>\n",
              "      <td>ADMINISTRAÇÃO I</td>\n",
              "      <td>2.6</td>\n",
              "    </tr>\n",
              "    <tr>\n",
              "      <th>4</th>\n",
              "      <td>ADMINISTRAÇÃO I</td>\n",
              "      <td>5.1</td>\n",
              "    </tr>\n",
              "  </tbody>\n",
              "</table>\n",
              "</div>\n",
              "    <div class=\"colab-df-buttons\">\n",
              "\n",
              "  <div class=\"colab-df-container\">\n",
              "    <button class=\"colab-df-convert\" onclick=\"convertToInteractive('df-62cdb81e-7d4a-4405-9673-74bc4041d82f')\"\n",
              "            title=\"Convert this dataframe to an interactive table.\"\n",
              "            style=\"display:none;\">\n",
              "\n",
              "  <svg xmlns=\"http://www.w3.org/2000/svg\" height=\"24px\" viewBox=\"0 -960 960 960\">\n",
              "    <path d=\"M120-120v-720h720v720H120Zm60-500h600v-160H180v160Zm220 220h160v-160H400v160Zm0 220h160v-160H400v160ZM180-400h160v-160H180v160Zm440 0h160v-160H620v160ZM180-180h160v-160H180v160Zm440 0h160v-160H620v160Z\"/>\n",
              "  </svg>\n",
              "    </button>\n",
              "\n",
              "  <style>\n",
              "    .colab-df-container {\n",
              "      display:flex;\n",
              "      gap: 12px;\n",
              "    }\n",
              "\n",
              "    .colab-df-convert {\n",
              "      background-color: #E8F0FE;\n",
              "      border: none;\n",
              "      border-radius: 50%;\n",
              "      cursor: pointer;\n",
              "      display: none;\n",
              "      fill: #1967D2;\n",
              "      height: 32px;\n",
              "      padding: 0 0 0 0;\n",
              "      width: 32px;\n",
              "    }\n",
              "\n",
              "    .colab-df-convert:hover {\n",
              "      background-color: #E2EBFA;\n",
              "      box-shadow: 0px 1px 2px rgba(60, 64, 67, 0.3), 0px 1px 3px 1px rgba(60, 64, 67, 0.15);\n",
              "      fill: #174EA6;\n",
              "    }\n",
              "\n",
              "    .colab-df-buttons div {\n",
              "      margin-bottom: 4px;\n",
              "    }\n",
              "\n",
              "    [theme=dark] .colab-df-convert {\n",
              "      background-color: #3B4455;\n",
              "      fill: #D2E3FC;\n",
              "    }\n",
              "\n",
              "    [theme=dark] .colab-df-convert:hover {\n",
              "      background-color: #434B5C;\n",
              "      box-shadow: 0px 1px 3px 1px rgba(0, 0, 0, 0.15);\n",
              "      filter: drop-shadow(0px 1px 2px rgba(0, 0, 0, 0.3));\n",
              "      fill: #FFFFFF;\n",
              "    }\n",
              "  </style>\n",
              "\n",
              "    <script>\n",
              "      const buttonEl =\n",
              "        document.querySelector('#df-62cdb81e-7d4a-4405-9673-74bc4041d82f button.colab-df-convert');\n",
              "      buttonEl.style.display =\n",
              "        google.colab.kernel.accessAllowed ? 'block' : 'none';\n",
              "\n",
              "      async function convertToInteractive(key) {\n",
              "        const element = document.querySelector('#df-62cdb81e-7d4a-4405-9673-74bc4041d82f');\n",
              "        const dataTable =\n",
              "          await google.colab.kernel.invokeFunction('convertToInteractive',\n",
              "                                                    [key], {});\n",
              "        if (!dataTable) return;\n",
              "\n",
              "        const docLinkHtml = 'Like what you see? Visit the ' +\n",
              "          '<a target=\"_blank\" href=https://colab.research.google.com/notebooks/data_table.ipynb>data table notebook</a>'\n",
              "          + ' to learn more about interactive tables.';\n",
              "        element.innerHTML = '';\n",
              "        dataTable['output_type'] = 'display_data';\n",
              "        await google.colab.output.renderOutput(dataTable, element);\n",
              "        const docLink = document.createElement('div');\n",
              "        docLink.innerHTML = docLinkHtml;\n",
              "        element.appendChild(docLink);\n",
              "      }\n",
              "    </script>\n",
              "  </div>\n",
              "\n",
              "\n",
              "<div id=\"df-4a83fe13-7ade-42c1-814e-a5ffc2e2e3a5\">\n",
              "  <button class=\"colab-df-quickchart\" onclick=\"quickchart('df-4a83fe13-7ade-42c1-814e-a5ffc2e2e3a5')\"\n",
              "            title=\"Suggest charts\"\n",
              "            style=\"display:none;\">\n",
              "\n",
              "<svg xmlns=\"http://www.w3.org/2000/svg\" height=\"24px\"viewBox=\"0 0 24 24\"\n",
              "     width=\"24px\">\n",
              "    <g>\n",
              "        <path d=\"M19 3H5c-1.1 0-2 .9-2 2v14c0 1.1.9 2 2 2h14c1.1 0 2-.9 2-2V5c0-1.1-.9-2-2-2zM9 17H7v-7h2v7zm4 0h-2V7h2v10zm4 0h-2v-4h2v4z\"/>\n",
              "    </g>\n",
              "</svg>\n",
              "  </button>\n",
              "\n",
              "<style>\n",
              "  .colab-df-quickchart {\n",
              "      --bg-color: #E8F0FE;\n",
              "      --fill-color: #1967D2;\n",
              "      --hover-bg-color: #E2EBFA;\n",
              "      --hover-fill-color: #174EA6;\n",
              "      --disabled-fill-color: #AAA;\n",
              "      --disabled-bg-color: #DDD;\n",
              "  }\n",
              "\n",
              "  [theme=dark] .colab-df-quickchart {\n",
              "      --bg-color: #3B4455;\n",
              "      --fill-color: #D2E3FC;\n",
              "      --hover-bg-color: #434B5C;\n",
              "      --hover-fill-color: #FFFFFF;\n",
              "      --disabled-bg-color: #3B4455;\n",
              "      --disabled-fill-color: #666;\n",
              "  }\n",
              "\n",
              "  .colab-df-quickchart {\n",
              "    background-color: var(--bg-color);\n",
              "    border: none;\n",
              "    border-radius: 50%;\n",
              "    cursor: pointer;\n",
              "    display: none;\n",
              "    fill: var(--fill-color);\n",
              "    height: 32px;\n",
              "    padding: 0;\n",
              "    width: 32px;\n",
              "  }\n",
              "\n",
              "  .colab-df-quickchart:hover {\n",
              "    background-color: var(--hover-bg-color);\n",
              "    box-shadow: 0 1px 2px rgba(60, 64, 67, 0.3), 0 1px 3px 1px rgba(60, 64, 67, 0.15);\n",
              "    fill: var(--button-hover-fill-color);\n",
              "  }\n",
              "\n",
              "  .colab-df-quickchart-complete:disabled,\n",
              "  .colab-df-quickchart-complete:disabled:hover {\n",
              "    background-color: var(--disabled-bg-color);\n",
              "    fill: var(--disabled-fill-color);\n",
              "    box-shadow: none;\n",
              "  }\n",
              "\n",
              "  .colab-df-spinner {\n",
              "    border: 2px solid var(--fill-color);\n",
              "    border-color: transparent;\n",
              "    border-bottom-color: var(--fill-color);\n",
              "    animation:\n",
              "      spin 1s steps(1) infinite;\n",
              "  }\n",
              "\n",
              "  @keyframes spin {\n",
              "    0% {\n",
              "      border-color: transparent;\n",
              "      border-bottom-color: var(--fill-color);\n",
              "      border-left-color: var(--fill-color);\n",
              "    }\n",
              "    20% {\n",
              "      border-color: transparent;\n",
              "      border-left-color: var(--fill-color);\n",
              "      border-top-color: var(--fill-color);\n",
              "    }\n",
              "    30% {\n",
              "      border-color: transparent;\n",
              "      border-left-color: var(--fill-color);\n",
              "      border-top-color: var(--fill-color);\n",
              "      border-right-color: var(--fill-color);\n",
              "    }\n",
              "    40% {\n",
              "      border-color: transparent;\n",
              "      border-right-color: var(--fill-color);\n",
              "      border-top-color: var(--fill-color);\n",
              "    }\n",
              "    60% {\n",
              "      border-color: transparent;\n",
              "      border-right-color: var(--fill-color);\n",
              "    }\n",
              "    80% {\n",
              "      border-color: transparent;\n",
              "      border-right-color: var(--fill-color);\n",
              "      border-bottom-color: var(--fill-color);\n",
              "    }\n",
              "    90% {\n",
              "      border-color: transparent;\n",
              "      border-bottom-color: var(--fill-color);\n",
              "    }\n",
              "  }\n",
              "</style>\n",
              "\n",
              "  <script>\n",
              "    async function quickchart(key) {\n",
              "      const quickchartButtonEl =\n",
              "        document.querySelector('#' + key + ' button');\n",
              "      quickchartButtonEl.disabled = true;  // To prevent multiple clicks.\n",
              "      quickchartButtonEl.classList.add('colab-df-spinner');\n",
              "      try {\n",
              "        const charts = await google.colab.kernel.invokeFunction(\n",
              "            'suggestCharts', [key], {});\n",
              "      } catch (error) {\n",
              "        console.error('Error during call to suggestCharts:', error);\n",
              "      }\n",
              "      quickchartButtonEl.classList.remove('colab-df-spinner');\n",
              "      quickchartButtonEl.classList.add('colab-df-quickchart-complete');\n",
              "    }\n",
              "    (() => {\n",
              "      let quickchartButtonEl =\n",
              "        document.querySelector('#df-4a83fe13-7ade-42c1-814e-a5ffc2e2e3a5 button');\n",
              "      quickchartButtonEl.style.display =\n",
              "        google.colab.kernel.accessAllowed ? 'block' : 'none';\n",
              "    })();\n",
              "  </script>\n",
              "</div>\n",
              "    </div>\n",
              "  </div>\n"
            ],
            "application/vnd.google.colaboratory.intrinsic+json": {
              "type": "dataframe",
              "variable_name": "df",
              "summary": "{\n  \"name\": \"df\",\n  \"rows\": 642,\n  \"fields\": [\n    {\n      \"column\": \"disciplina\",\n      \"properties\": {\n        \"dtype\": \"category\",\n        \"samples\": [\n          \"ETICA PROFISSIONAL\",\n          \"METODOLOGIA CIENT\\u00cdFICA\",\n          \"ADMINISTRA\\u00c7\\u00c3O I\"\n        ],\n        \"num_unique_values\": 25,\n        \"semantic_type\": \"\",\n        \"description\": \"\"\n      }\n    },\n    {\n      \"column\": \"nota\",\n      \"properties\": {\n        \"dtype\": \"number\",\n        \"std\": 2.055443588003925,\n        \"min\": 0.2,\n        \"max\": 10.0,\n        \"samples\": [\n          6.5,\n          7.7,\n          8.7\n        ],\n        \"num_unique_values\": 79,\n        \"semantic_type\": \"\",\n        \"description\": \"\"\n      }\n    }\n  ]\n}"
            }
          },
          "metadata": {},
          "execution_count": 125
        }
      ],
      "source": [
        "import pandas as pd\n",
        "\n",
        "url = 'https://raw.githubusercontent.com/analisededados-ufpb/ad23_2-lab1-Leandro-Oliveira-2/main/dados/exemplo_notas_si.csv?token=GHSAT0AAAAAACME4NRICSFXKCD3YWTP2PLUZOP762A'\n",
        "df = pd.read_csv(url)\n",
        "\n",
        "df.head()"
      ]
    },
    {
      "cell_type": "markdown",
      "metadata": {
        "id": "f1tcE4xQPoZr"
      },
      "source": [
        "### Filtragem de dados\n",
        "\n",
        "Com base na tabela de notas dos alunos, aplique alguns filtros e ordenação nos dados.\n",
        "\n",
        "#### Mostre apenas as linhas com as notas igual a 10"
      ]
    },
    {
      "cell_type": "code",
      "execution_count": 129,
      "metadata": {
        "colab": {
          "base_uri": "https://localhost:8080/"
        },
        "id": "82yujlKiPoZr",
        "outputId": "6603d5a8-7412-481d-8066-fb0daeaad7d1"
      },
      "outputs": [
        {
          "output_type": "stream",
          "name": "stdout",
          "text": [
            "                                  disciplina  nota\n",
            "62         ALGORITMOS E ESTRUTURA DE DADOS I  10.0\n",
            "144    DESENVOLVIMENTOS DE SIST CORPORATIVOS  10.0\n",
            "153    DESENVOLVIMENTOS DE SIST CORPORATIVOS  10.0\n",
            "206                       ETICA PROFISSIONAL  10.0\n",
            "215                       ETICA PROFISSIONAL  10.0\n",
            "216                       ETICA PROFISSIONAL  10.0\n",
            "220                       ETICA PROFISSIONAL  10.0\n",
            "223                       ETICA PROFISSIONAL  10.0\n",
            "231                       ETICA PROFISSIONAL  10.0\n",
            "232                       ETICA PROFISSIONAL  10.0\n",
            "233                       ETICA PROFISSIONAL  10.0\n",
            "236                       ETICA PROFISSIONAL  10.0\n",
            "237                       ETICA PROFISSIONAL  10.0\n",
            "238                       ETICA PROFISSIONAL  10.0\n",
            "305                 INTRODUCAO A PROGRAMACAO  10.0\n",
            "318                 INTRODUCAO A PROGRAMACAO  10.0\n",
            "322                 INTRODUCAO A PROGRAMACAO  10.0\n",
            "514  PESQUISA APLIC A SISTEMAS DE INFORMACAO  10.0\n"
          ]
        }
      ],
      "source": [
        "notas_10 = df[df['nota']==10]\n",
        "print(notas_10)"
      ]
    },
    {
      "cell_type": "markdown",
      "metadata": {
        "id": "uedF1QnQPoZr"
      },
      "source": [
        "#### Mostre apenas as notas da disciplina \"SISTEMAS DISTRIBUIDOS\", ordenadas da maior para a menor nota"
      ]
    },
    {
      "cell_type": "code",
      "execution_count": 130,
      "metadata": {
        "colab": {
          "base_uri": "https://localhost:8080/"
        },
        "id": "S1oUGAUBPoZr",
        "outputId": "d7dc8e27-4635-4f6a-c24a-f141406d8074"
      },
      "outputs": [
        {
          "output_type": "stream",
          "name": "stdout",
          "text": [
            "                disciplina  nota\n",
            "604  SISTEMAS DISTRIBUIDOS   9.4\n",
            "605  SISTEMAS DISTRIBUIDOS   9.2\n",
            "606  SISTEMAS DISTRIBUIDOS   7.1\n",
            "607  SISTEMAS DISTRIBUIDOS   5.4\n",
            "608  SISTEMAS DISTRIBUIDOS   9.6\n",
            "609  SISTEMAS DISTRIBUIDOS   5.3\n",
            "610  SISTEMAS DISTRIBUIDOS   9.2\n",
            "611  SISTEMAS DISTRIBUIDOS   9.0\n",
            "612  SISTEMAS DISTRIBUIDOS   7.5\n",
            "613  SISTEMAS DISTRIBUIDOS   5.6\n",
            "614  SISTEMAS DISTRIBUIDOS   7.9\n",
            "615  SISTEMAS DISTRIBUIDOS   7.3\n",
            "616  SISTEMAS DISTRIBUIDOS   8.2\n",
            "617  SISTEMAS DISTRIBUIDOS   7.9\n",
            "618  SISTEMAS DISTRIBUIDOS   5.8\n",
            "619  SISTEMAS DISTRIBUIDOS   7.2\n"
          ]
        }
      ],
      "source": [
        "notas_sistemas_distribuidos = df[df['disciplina'] == 'SISTEMAS DISTRIBUIDOS']\n",
        "print(notas_sistemas_distribuidos)"
      ]
    },
    {
      "cell_type": "markdown",
      "metadata": {
        "id": "zDRZTajNPoZr"
      },
      "source": [
        "### Média geral das disciplinas\n",
        "\n",
        "Crie um novo dataframe que agrupe os dados por disciplina e aplique uma função de agregação que calcule a **média** geral das notas de cada disciplina.\n",
        "Cada disciplina terá apenas uma linha com o seu nome e média das notas de todos os alunos daquela disciplina.\n",
        "Exiba o dataframe para visualizar se deu certo."
      ]
    },
    {
      "cell_type": "code",
      "execution_count": 147,
      "metadata": {
        "colab": {
          "base_uri": "https://localhost:8080/"
        },
        "id": "iHn0Pg6bPoZr",
        "outputId": "76de0638-2e45-49f7-b594-9df6fe27faa5"
      },
      "outputs": [
        {
          "output_type": "stream",
          "name": "stdout",
          "text": [
            "disciplina\n",
            "ADMINISTRAÇÃO I                            7.070000\n",
            "ALGEBRA LINEAR E GEOMETRIA ANALITICA       6.465000\n",
            "ALGORITMOS E ESTRUTURA DE DADOS I          8.319048\n",
            "AUDITORIA E SEGURANCA DE SISTEMAS          7.762500\n",
            "BANCO DE DADOS I                           6.662069\n",
            "DESENVOLVIMENTOS DE SIST CORPORATIVOS      7.044000\n",
            "ENGENHARIA DE SOFTWARE APLICADA            7.911111\n",
            "ESTATÍSTICA                                3.515789\n",
            "ETICA PROFISSIONAL                         9.715789\n",
            "GESTÃO DA QUALIDADE DE SOFTWARE            7.420000\n",
            "INTELIG ARTIFICIAL E SIST ESPECIALISTAS    6.005263\n",
            "INTRODUCAO A PROGRAMACAO                   8.410811\n",
            "INTRODUCAO A SOCIOLOGIA                    7.056098\n",
            "INTRODUCAO AO COMPUTADOR                   8.538462\n",
            "INTRODUÇÃO À ÁLGEBRA LINEAR                4.526316\n",
            "MATEMÁTICA ELEMENTAR                       5.490476\n",
            "METODOLOGIA CIENTÍFICA                     8.228571\n",
            "PESQUISA APLIC A SISTEMAS DE INFORMACAO    9.166667\n",
            "PORTUGUES INSTRUMENTAL                     8.192308\n",
            "PROBABILIDADE E ESTATISTICA                8.030435\n",
            "PROGRAMACAO ORIENTADA A OBJETOS            7.558824\n",
            "REDES DE COMPUTADORES                      7.275000\n",
            "SISTEMAS DE APOIO A GESTÃO                 8.221053\n",
            "SISTEMAS DISTRIBUIDOS                      7.600000\n",
            "SISTEMAS OPERACIONAIS                      6.250000\n",
            "Name: nota, dtype: float64\n"
          ]
        }
      ],
      "source": [
        "media_por_disciplina = df.groupby('disciplina')['nota'].mean()\n",
        "print(media_por_disciplina)"
      ]
    },
    {
      "cell_type": "markdown",
      "metadata": {
        "id": "7mCiTX1APoZr"
      },
      "source": [
        "#### Qual disciplina teve a maior média?"
      ]
    },
    {
      "cell_type": "code",
      "execution_count": 153,
      "metadata": {
        "colab": {
          "base_uri": "https://localhost:8080/"
        },
        "id": "F_ShgIkjPoZs",
        "outputId": "9985b517-b634-4f29-b071-ae04b3897116"
      },
      "outputs": [
        {
          "output_type": "stream",
          "name": "stdout",
          "text": [
            "Disciplina    ETICA PROFISSIONAL\n",
            "Média                   9.715789\n",
            "Name: 8, dtype: object\n"
          ]
        }
      ],
      "source": [
        "\n",
        "resultado = pd.DataFrame({\n",
        "    'Disciplina': media_por_disciplina.index,\n",
        "    'Média': media_por_disciplina.values\n",
        "})\n",
        "\n",
        "disciplina_maior_media = resultado.loc[resultado['Média'].idxmax()]\n",
        "# Exibindo a disciplina com a maior média\n",
        "print(disciplina_maior_media)"
      ]
    },
    {
      "cell_type": "markdown",
      "metadata": {
        "id": "ZTHAt1_jPoZs"
      },
      "source": [
        "#### Qual disciplina teve a menor média?"
      ]
    },
    {
      "cell_type": "code",
      "execution_count": 154,
      "metadata": {
        "colab": {
          "base_uri": "https://localhost:8080/"
        },
        "id": "lRuUy9-rPoZs",
        "outputId": "9084dea0-7e67-4bef-ae6d-175a46019624"
      },
      "outputs": [
        {
          "output_type": "stream",
          "name": "stdout",
          "text": [
            "Disciplina    ESTATÍSTICA\n",
            "Média            3.515789\n",
            "Name: 7, dtype: object\n"
          ]
        }
      ],
      "source": [
        "menor_nota_resultado = pd.DataFrame({\n",
        "    'Disciplina': media_por_disciplina.index,\n",
        "    'Média': media_por_disciplina.values\n",
        "})\n",
        "\n",
        "disciplina_menor_media = resultado.loc[resultado['Média'].idxmin()]\n",
        "# Exibindo a disciplina com a maior média\n",
        "print(disciplina_menor_media)"
      ]
    },
    {
      "cell_type": "markdown",
      "metadata": {
        "id": "rvu32piBPoZs"
      },
      "source": [
        "### Quantidade de alunos por disciplina\n",
        "\n",
        "Crie um novo dataframe que calcule a quantidade de alunos por disciplina."
      ]
    },
    {
      "cell_type": "code",
      "execution_count": 160,
      "metadata": {
        "colab": {
          "base_uri": "https://localhost:8080/"
        },
        "id": "2bnERN5cPoZs",
        "outputId": "1cd55143-2108-43c8-a8a3-9ec3a299c37b"
      },
      "outputs": [
        {
          "output_type": "stream",
          "name": "stdout",
          "text": [
            "                                 Disciplina  Quantidade de Alunos\n",
            "0                           ADMINISTRAÇÃO I                    40\n",
            "1      ALGEBRA LINEAR E GEOMETRIA ANALITICA                    20\n",
            "2         ALGORITMOS E ESTRUTURA DE DADOS I                    21\n",
            "3         AUDITORIA E SEGURANCA DE SISTEMAS                    24\n",
            "4                          BANCO DE DADOS I                    29\n",
            "5     DESENVOLVIMENTOS DE SIST CORPORATIVOS                    25\n",
            "6           ENGENHARIA DE SOFTWARE APLICADA                    27\n",
            "7                               ESTATÍSTICA                    19\n",
            "8                        ETICA PROFISSIONAL                    38\n",
            "9           GESTÃO DA QUALIDADE DE SOFTWARE                    30\n",
            "10  INTELIG ARTIFICIAL E SIST ESPECIALISTAS                    19\n",
            "11                 INTRODUCAO A PROGRAMACAO                    37\n",
            "12                  INTRODUCAO A SOCIOLOGIA                    41\n",
            "13                 INTRODUCAO AO COMPUTADOR                    39\n",
            "14              INTRODUÇÃO À ÁLGEBRA LINEAR                    19\n",
            "15                     MATEMÁTICA ELEMENTAR                    42\n",
            "16                   METODOLOGIA CIENTÍFICA                    35\n",
            "17  PESQUISA APLIC A SISTEMAS DE INFORMACAO                    15\n",
            "18                   PORTUGUES INSTRUMENTAL                    13\n",
            "19              PROBABILIDADE E ESTATISTICA                    23\n",
            "20          PROGRAMACAO ORIENTADA A OBJETOS                    17\n",
            "21                    REDES DE COMPUTADORES                    12\n",
            "22               SISTEMAS DE APOIO A GESTÃO                    19\n",
            "23                    SISTEMAS DISTRIBUIDOS                    16\n",
            "24                    SISTEMAS OPERACIONAIS                    22\n"
          ]
        }
      ],
      "source": [
        "quantidade_alunos_por_disciplina = df.groupby('disciplina')['nota'].count()\n",
        "\n",
        "# Criando um novo DataFrame com a contagem de alunos por disciplina\n",
        "df_quantidade_alunos = pd.DataFrame({\n",
        "    'Disciplina': quantidade_alunos_por_disciplina.index,\n",
        "    'Quantidade de Alunos': quantidade_alunos_por_disciplina.values\n",
        "})\n",
        "\n",
        "# Exibindo o novo DataFrame\n",
        "print(df_quantidade_alunos)"
      ]
    },
    {
      "cell_type": "markdown",
      "metadata": {
        "id": "1JAJf-9CPoZs"
      },
      "source": [
        "#### Qual disciplina teve a maior quantidade de alunos?"
      ]
    },
    {
      "cell_type": "code",
      "execution_count": 163,
      "metadata": {
        "colab": {
          "base_uri": "https://localhost:8080/"
        },
        "id": "gjWZTZa8PoZs",
        "outputId": "c1ac6002-9ef8-4fb9-ebcc-13413e799fe6"
      },
      "outputs": [
        {
          "output_type": "stream",
          "name": "stdout",
          "text": [
            "Disciplina              MATEMÁTICA ELEMENTAR\n",
            "Quantidade de Alunos                      42\n",
            "Name: 15, dtype: object\n"
          ]
        }
      ],
      "source": [
        "disciplina_maior_quantidade_aluno = df_quantidade_alunos.loc[df_quantidade_alunos['Quantidade de Alunos'].idxmax()]\n",
        "# Exibindo a disciplina com a maior média\n",
        "print(disciplina_maior_quantidade_aluno)"
      ]
    },
    {
      "cell_type": "markdown",
      "metadata": {
        "id": "Cq6YA6BWPoZs"
      },
      "source": [
        "#### Qual disciplina teve a menor quantidade de alunos?"
      ]
    },
    {
      "cell_type": "code",
      "execution_count": 165,
      "metadata": {
        "colab": {
          "base_uri": "https://localhost:8080/"
        },
        "id": "v8IQAjt9PoZs",
        "outputId": "39919596-df68-4167-98d8-757c385e2340"
      },
      "outputs": [
        {
          "output_type": "stream",
          "name": "stdout",
          "text": [
            "Disciplina              REDES DE COMPUTADORES\n",
            "Quantidade de Alunos                       12\n",
            "Name: 21, dtype: object\n"
          ]
        }
      ],
      "source": [
        "disciplina_menor_quantidade_aluno = df_quantidade_alunos.loc[df_quantidade_alunos['Quantidade de Alunos'].idxmin()]\n",
        "# Exibindo a disciplina com a maior média\n",
        "print(disciplina_menor_quantidade_aluno)"
      ]
    },
    {
      "cell_type": "markdown",
      "metadata": {
        "id": "L11kreBYPoZt"
      },
      "source": [
        "### Percentual de aprovados por disciplina\n",
        "\n",
        "Crie um novo dataframe que calcule o percentual de alunos por disciplina, considerando que a nota mínima para aprovação é 5.\n"
      ]
    },
    {
      "cell_type": "code",
      "execution_count": 170,
      "metadata": {
        "colab": {
          "base_uri": "https://localhost:8080/"
        },
        "id": "bK2OgrcSPoZt",
        "outputId": "35e2e027-b6bd-470b-bfd0-a155c82f47d3"
      },
      "outputs": [
        {
          "output_type": "stream",
          "name": "stdout",
          "text": [
            "                                 Disciplina Percentual de Aprovados\n",
            "0                           ADMINISTRAÇÃO I                   95.0%\n",
            "1      ALGEBRA LINEAR E GEOMETRIA ANALITICA                   70.0%\n",
            "2         ALGORITMOS E ESTRUTURA DE DADOS I                  100.0%\n",
            "3         AUDITORIA E SEGURANCA DE SISTEMAS                  95.83%\n",
            "4                          BANCO DE DADOS I                  89.66%\n",
            "5     DESENVOLVIMENTOS DE SIST CORPORATIVOS                   92.0%\n",
            "6           ENGENHARIA DE SOFTWARE APLICADA                   96.3%\n",
            "7                               ESTATÍSTICA                  31.58%\n",
            "8                        ETICA PROFISSIONAL                  100.0%\n",
            "9           GESTÃO DA QUALIDADE DE SOFTWARE                  100.0%\n",
            "10  INTELIG ARTIFICIAL E SIST ESPECIALISTAS                  73.68%\n",
            "11                 INTRODUCAO A PROGRAMACAO                   97.3%\n",
            "12                  INTRODUCAO A SOCIOLOGIA                   87.8%\n",
            "13                 INTRODUCAO AO COMPUTADOR                  94.87%\n",
            "14              INTRODUÇÃO À ÁLGEBRA LINEAR                  52.63%\n",
            "15                     MATEMÁTICA ELEMENTAR                  71.43%\n",
            "16                   METODOLOGIA CIENTÍFICA                  100.0%\n",
            "17  PESQUISA APLIC A SISTEMAS DE INFORMACAO                  100.0%\n",
            "18                   PORTUGUES INSTRUMENTAL                  100.0%\n",
            "19              PROBABILIDADE E ESTATISTICA                  100.0%\n",
            "20          PROGRAMACAO ORIENTADA A OBJETOS                  100.0%\n",
            "21                    REDES DE COMPUTADORES                  83.33%\n",
            "22               SISTEMAS DE APOIO A GESTÃO                  100.0%\n",
            "23                    SISTEMAS DISTRIBUIDOS                  100.0%\n",
            "24                    SISTEMAS OPERACIONAIS                  81.82%\n"
          ]
        }
      ],
      "source": [
        "alunos_aprovados_por_disciplina = df[df['nota'] >= 5].groupby('disciplina')['nota'].count()\n",
        "\n",
        "# Calculando o total de alunos por disciplina\n",
        "total_alunos_por_disciplina = df.groupby('disciplina')['nota'].count()\n",
        "\n",
        "# Calculando o percentual de alunos aprovados\n",
        "percentual_aprovados_por_disciplina = (alunos_aprovados_por_disciplina / total_alunos_por_disciplina) * 100\n",
        "\n",
        "# Criando um novo DataFrame com o percentual de alunos aprovados por disciplina\n",
        "df_percentual_aprovados = pd.DataFrame({\n",
        "    'Disciplina': percentual_aprovados_por_disciplina.index,\n",
        "    'Percentual de Aprovados': percentual_aprovados_por_disciplina.values.round(2)  # Arredondando para duas casas decimais\n",
        "})\n",
        "\n",
        "# Adicionando o símbolo de porcentagem (%)\n",
        "df_percentual_aprovados['Percentual de Aprovados'] = df_percentual_aprovados['Percentual de Aprovados'].astype(str) + '%'\n",
        "\n",
        "# Exibindo o novo DataFrame\n",
        "print(df_percentual_aprovados)"
      ]
    },
    {
      "cell_type": "markdown",
      "metadata": {
        "id": "cC71_94rPoZt"
      },
      "source": [
        "#### Qual a disciplina com a maior taxa de aprovação?\n"
      ]
    },
    {
      "cell_type": "code",
      "execution_count": 173,
      "metadata": {
        "colab": {
          "base_uri": "https://localhost:8080/"
        },
        "id": "JFi9tiB8PoZt",
        "outputId": "308bdbe4-2519-4882-f3c0-0ee3a4159620"
      },
      "outputs": [
        {
          "output_type": "stream",
          "name": "stdout",
          "text": [
            "                                 Disciplina Percentual de Aprovados\n",
            "8                        ETICA PROFISSIONAL                  100.0%\n",
            "17  PESQUISA APLIC A SISTEMAS DE INFORMACAO                  100.0%\n",
            "23                    SISTEMAS DISTRIBUIDOS                  100.0%\n",
            "18                   PORTUGUES INSTRUMENTAL                  100.0%\n",
            "9           GESTÃO DA QUALIDADE DE SOFTWARE                  100.0%\n",
            "19              PROBABILIDADE E ESTATISTICA                  100.0%\n",
            "16                   METODOLOGIA CIENTÍFICA                  100.0%\n",
            "22               SISTEMAS DE APOIO A GESTÃO                  100.0%\n",
            "2         ALGORITMOS E ESTRUTURA DE DADOS I                  100.0%\n",
            "20          PROGRAMACAO ORIENTADA A OBJETOS                  100.0%\n",
            "7                               ESTATÍSTICA                  31.58%\n",
            "14              INTRODUÇÃO À ÁLGEBRA LINEAR                  52.63%\n",
            "1      ALGEBRA LINEAR E GEOMETRIA ANALITICA                   70.0%\n",
            "15                     MATEMÁTICA ELEMENTAR                  71.43%\n",
            "10  INTELIG ARTIFICIAL E SIST ESPECIALISTAS                  73.68%\n",
            "24                    SISTEMAS OPERACIONAIS                  81.82%\n",
            "21                    REDES DE COMPUTADORES                  83.33%\n",
            "12                  INTRODUCAO A SOCIOLOGIA                   87.8%\n",
            "4                          BANCO DE DADOS I                  89.66%\n",
            "5     DESENVOLVIMENTOS DE SIST CORPORATIVOS                   92.0%\n",
            "13                 INTRODUCAO AO COMPUTADOR                  94.87%\n",
            "0                           ADMINISTRAÇÃO I                   95.0%\n",
            "3         AUDITORIA E SEGURANCA DE SISTEMAS                  95.83%\n",
            "6           ENGENHARIA DE SOFTWARE APLICADA                   96.3%\n",
            "11                 INTRODUCAO A PROGRAMACAO                   97.3%\n"
          ]
        }
      ],
      "source": [
        "maior_taxa_aprovação = df_percentual_aprovados.sort_values(by= 'Percentual de Aprovados', ascending=True)\n",
        "print(maior_taxa_aprovação)"
      ]
    },
    {
      "cell_type": "markdown",
      "metadata": {
        "id": "7N-56kwVPoZt"
      },
      "source": [
        "#### Qual a disciplina com a menor taxa de aprovação?\n"
      ]
    },
    {
      "cell_type": "code",
      "execution_count": 175,
      "metadata": {
        "colab": {
          "base_uri": "https://localhost:8080/",
          "height": 477
        },
        "id": "5sIjNPmiPoZt",
        "outputId": "914aea57-e747-4e46-8628-81739b0fbe2b"
      },
      "outputs": [
        {
          "output_type": "error",
          "ename": "KeyError",
          "evalue": "0",
          "traceback": [
            "\u001b[0;31m---------------------------------------------------------------------------\u001b[0m",
            "\u001b[0;31mKeyError\u001b[0m                                  Traceback (most recent call last)",
            "\u001b[0;32m/usr/local/lib/python3.10/dist-packages/pandas/core/indexes/base.py\u001b[0m in \u001b[0;36mget_loc\u001b[0;34m(self, key, method, tolerance)\u001b[0m\n\u001b[1;32m   3801\u001b[0m             \u001b[0;32mtry\u001b[0m\u001b[0;34m:\u001b[0m\u001b[0;34m\u001b[0m\u001b[0;34m\u001b[0m\u001b[0m\n\u001b[0;32m-> 3802\u001b[0;31m                 \u001b[0;32mreturn\u001b[0m \u001b[0mself\u001b[0m\u001b[0;34m.\u001b[0m\u001b[0m_engine\u001b[0m\u001b[0;34m.\u001b[0m\u001b[0mget_loc\u001b[0m\u001b[0;34m(\u001b[0m\u001b[0mcasted_key\u001b[0m\u001b[0;34m)\u001b[0m\u001b[0;34m\u001b[0m\u001b[0;34m\u001b[0m\u001b[0m\n\u001b[0m\u001b[1;32m   3803\u001b[0m             \u001b[0;32mexcept\u001b[0m \u001b[0mKeyError\u001b[0m \u001b[0;32mas\u001b[0m \u001b[0merr\u001b[0m\u001b[0;34m:\u001b[0m\u001b[0;34m\u001b[0m\u001b[0;34m\u001b[0m\u001b[0m\n",
            "\u001b[0;32m/usr/local/lib/python3.10/dist-packages/pandas/_libs/index.pyx\u001b[0m in \u001b[0;36mpandas._libs.index.IndexEngine.get_loc\u001b[0;34m()\u001b[0m\n",
            "\u001b[0;32m/usr/local/lib/python3.10/dist-packages/pandas/_libs/index.pyx\u001b[0m in \u001b[0;36mpandas._libs.index.IndexEngine.get_loc\u001b[0;34m()\u001b[0m\n",
            "\u001b[0;32mpandas/_libs/hashtable_class_helper.pxi\u001b[0m in \u001b[0;36mpandas._libs.hashtable.PyObjectHashTable.get_item\u001b[0;34m()\u001b[0m\n",
            "\u001b[0;32mpandas/_libs/hashtable_class_helper.pxi\u001b[0m in \u001b[0;36mpandas._libs.hashtable.PyObjectHashTable.get_item\u001b[0;34m()\u001b[0m\n",
            "\u001b[0;31mKeyError\u001b[0m: 0",
            "\nThe above exception was the direct cause of the following exception:\n",
            "\u001b[0;31mKeyError\u001b[0m                                  Traceback (most recent call last)",
            "\u001b[0;32m<ipython-input-175-c43e343e626b>\u001b[0m in \u001b[0;36m<cell line: 2>\u001b[0;34m()\u001b[0m\n\u001b[1;32m      1\u001b[0m \u001b[0mmaior_taxa_aprovacao\u001b[0m \u001b[0;34m=\u001b[0m \u001b[0mdf_percentual_aprovados\u001b[0m\u001b[0;34m.\u001b[0m\u001b[0msort_values\u001b[0m\u001b[0;34m(\u001b[0m\u001b[0mby\u001b[0m\u001b[0;34m=\u001b[0m \u001b[0;34m'Percentual de Aprovados'\u001b[0m\u001b[0;34m,\u001b[0m \u001b[0mascending\u001b[0m\u001b[0;34m=\u001b[0m\u001b[0;32mFalse\u001b[0m\u001b[0;34m)\u001b[0m\u001b[0;34m\u001b[0m\u001b[0;34m\u001b[0m\u001b[0m\n\u001b[0;32m----> 2\u001b[0;31m \u001b[0mmenor_taxa_aprovacao\u001b[0m \u001b[0;34m=\u001b[0m \u001b[0mmaior_taxa_aprovacao\u001b[0m\u001b[0;34m[\u001b[0m\u001b[0;36m0\u001b[0m\u001b[0;34m]\u001b[0m\u001b[0;34m\u001b[0m\u001b[0;34m\u001b[0m\u001b[0m\n\u001b[0m\u001b[1;32m      3\u001b[0m \u001b[0mprint\u001b[0m\u001b[0;34m(\u001b[0m\u001b[0mmenor_taxa_aprovacao\u001b[0m\u001b[0;34m)\u001b[0m\u001b[0;34m\u001b[0m\u001b[0;34m\u001b[0m\u001b[0m\n",
            "\u001b[0;32m/usr/local/lib/python3.10/dist-packages/pandas/core/frame.py\u001b[0m in \u001b[0;36m__getitem__\u001b[0;34m(self, key)\u001b[0m\n\u001b[1;32m   3805\u001b[0m             \u001b[0;32mif\u001b[0m \u001b[0mself\u001b[0m\u001b[0;34m.\u001b[0m\u001b[0mcolumns\u001b[0m\u001b[0;34m.\u001b[0m\u001b[0mnlevels\u001b[0m \u001b[0;34m>\u001b[0m \u001b[0;36m1\u001b[0m\u001b[0;34m:\u001b[0m\u001b[0;34m\u001b[0m\u001b[0;34m\u001b[0m\u001b[0m\n\u001b[1;32m   3806\u001b[0m                 \u001b[0;32mreturn\u001b[0m \u001b[0mself\u001b[0m\u001b[0;34m.\u001b[0m\u001b[0m_getitem_multilevel\u001b[0m\u001b[0;34m(\u001b[0m\u001b[0mkey\u001b[0m\u001b[0;34m)\u001b[0m\u001b[0;34m\u001b[0m\u001b[0;34m\u001b[0m\u001b[0m\n\u001b[0;32m-> 3807\u001b[0;31m             \u001b[0mindexer\u001b[0m \u001b[0;34m=\u001b[0m \u001b[0mself\u001b[0m\u001b[0;34m.\u001b[0m\u001b[0mcolumns\u001b[0m\u001b[0;34m.\u001b[0m\u001b[0mget_loc\u001b[0m\u001b[0;34m(\u001b[0m\u001b[0mkey\u001b[0m\u001b[0;34m)\u001b[0m\u001b[0;34m\u001b[0m\u001b[0;34m\u001b[0m\u001b[0m\n\u001b[0m\u001b[1;32m   3808\u001b[0m             \u001b[0;32mif\u001b[0m \u001b[0mis_integer\u001b[0m\u001b[0;34m(\u001b[0m\u001b[0mindexer\u001b[0m\u001b[0;34m)\u001b[0m\u001b[0;34m:\u001b[0m\u001b[0;34m\u001b[0m\u001b[0;34m\u001b[0m\u001b[0m\n\u001b[1;32m   3809\u001b[0m                 \u001b[0mindexer\u001b[0m \u001b[0;34m=\u001b[0m \u001b[0;34m[\u001b[0m\u001b[0mindexer\u001b[0m\u001b[0;34m]\u001b[0m\u001b[0;34m\u001b[0m\u001b[0;34m\u001b[0m\u001b[0m\n",
            "\u001b[0;32m/usr/local/lib/python3.10/dist-packages/pandas/core/indexes/base.py\u001b[0m in \u001b[0;36mget_loc\u001b[0;34m(self, key, method, tolerance)\u001b[0m\n\u001b[1;32m   3802\u001b[0m                 \u001b[0;32mreturn\u001b[0m \u001b[0mself\u001b[0m\u001b[0;34m.\u001b[0m\u001b[0m_engine\u001b[0m\u001b[0;34m.\u001b[0m\u001b[0mget_loc\u001b[0m\u001b[0;34m(\u001b[0m\u001b[0mcasted_key\u001b[0m\u001b[0;34m)\u001b[0m\u001b[0;34m\u001b[0m\u001b[0;34m\u001b[0m\u001b[0m\n\u001b[1;32m   3803\u001b[0m             \u001b[0;32mexcept\u001b[0m \u001b[0mKeyError\u001b[0m \u001b[0;32mas\u001b[0m \u001b[0merr\u001b[0m\u001b[0;34m:\u001b[0m\u001b[0;34m\u001b[0m\u001b[0;34m\u001b[0m\u001b[0m\n\u001b[0;32m-> 3804\u001b[0;31m                 \u001b[0;32mraise\u001b[0m \u001b[0mKeyError\u001b[0m\u001b[0;34m(\u001b[0m\u001b[0mkey\u001b[0m\u001b[0;34m)\u001b[0m \u001b[0;32mfrom\u001b[0m \u001b[0merr\u001b[0m\u001b[0;34m\u001b[0m\u001b[0;34m\u001b[0m\u001b[0m\n\u001b[0m\u001b[1;32m   3805\u001b[0m             \u001b[0;32mexcept\u001b[0m \u001b[0mTypeError\u001b[0m\u001b[0;34m:\u001b[0m\u001b[0;34m\u001b[0m\u001b[0;34m\u001b[0m\u001b[0m\n\u001b[1;32m   3806\u001b[0m                 \u001b[0;31m# If we have a listlike key, _check_indexing_error will raise\u001b[0m\u001b[0;34m\u001b[0m\u001b[0;34m\u001b[0m\u001b[0m\n",
            "\u001b[0;31mKeyError\u001b[0m: 0"
          ]
        }
      ],
      "source": [
        "maior_taxa_aprovacao = df_percentual_aprovados.sort_values(by= 'Percentual de Aprovados', ascending=False)\n",
        "menor_taxa_aprovacao = maior_taxa_aprovacao[0]\n",
        "print(menor_taxa_aprovacao)"
      ]
    }
  ],
  "metadata": {
    "kernelspec": {
      "display_name": "Python 3.10.1 64-bit",
      "language": "python",
      "name": "python3"
    },
    "language_info": {
      "codemirror_mode": {
        "name": "ipython",
        "version": 3
      },
      "file_extension": ".py",
      "mimetype": "text/x-python",
      "name": "python",
      "nbconvert_exporter": "python",
      "pygments_lexer": "ipython3",
      "version": "3.10.1"
    },
    "orig_nbformat": 4,
    "vscode": {
      "interpreter": {
        "hash": "369f2c481f4da34e4445cda3fffd2e751bd1c4d706f27375911949ba6bb62e1c"
      }
    },
    "colab": {
      "provenance": []
    }
  },
  "nbformat": 4,
  "nbformat_minor": 0
}